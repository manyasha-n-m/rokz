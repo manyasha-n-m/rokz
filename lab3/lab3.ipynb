{
 "cells": [
  {
   "cell_type": "code",
   "execution_count": 5,
   "metadata": {},
   "outputs": [],
   "source": [
    "import numpy as np\n",
    "import json"
   ]
  },
  {
   "cell_type": "code",
   "execution_count": 6,
   "metadata": {},
   "outputs": [
    {
     "data": {
      "text/plain": [
       "[[5, 3, 0, 0, 7, 0, 0, 0, 0],\n",
       " [6, 0, 0, 1, 9, 5, 0, 0, 0],\n",
       " [0, 9, 8, 0, 0, 0, 0, 6, 0],\n",
       " [8, 0, 0, 0, 6, 0, 0, 0, 3],\n",
       " [4, 0, 0, 8, 0, 3, 0, 0, 1],\n",
       " [7, 0, 0, 0, 2, 0, 0, 0, 6],\n",
       " [0, 6, 0, 0, 0, 0, 2, 8, 0],\n",
       " [0, 0, 0, 4, 1, 9, 0, 0, 5],\n",
       " [0, 0, 0, 0, 8, 0, 0, 7, 9]]"
      ]
     },
     "execution_count": 6,
     "metadata": {},
     "output_type": "execute_result"
    }
   ],
   "source": [
    "with open('sudoku_01.json') as f:\n",
    "    d1 = json.load(f)\n",
    "d1"
   ]
  },
  {
   "cell_type": "code",
   "execution_count": 137,
   "metadata": {},
   "outputs": [],
   "source": [
    "class sudoku:\n",
    "    def __init__(self, dim: int, base):\n",
    "        self.dim = dim\n",
    "        self.base = base\n",
    "        self.tau, self.g = sudoku.create_tau(dim) \n",
    "        self.q = self.create_q()\n",
    "        \n",
    "    @staticmethod\n",
    "    def complement(i,j, small_block):\n",
    "        A = np.delete(small_block, i, 0)\n",
    "        return np.delete(A, j, 1).flatten()\n",
    "    \n",
    "    @classmethod\n",
    "    def create_tau(cls, dim):\n",
    "        block = np.array([[f'{i}{j}' for j in range(9)] for i in range(9)])\n",
    "        n = dim*dim\n",
    "        tau = {}\n",
    "        g = {}\n",
    "        for i in range(n):\n",
    "            for j in range(n):\n",
    "                #small_block_pos\n",
    "                i_ = int(i/dim) \n",
    "                j_ = int(j/dim)\n",
    "                small_block = block[i_*dim:i_*dim+dim, j_*dim:j_*dim+dim]\n",
    "                tau[f'{i}{j}'] = np.concatenate([np.delete(block[i,:], j),\n",
    "                                                np.delete(block[:,j], i),\n",
    "                                                cls.complement(i%dim,j%dim, small_block)])\n",
    "                g[f'{i}{j}'] = {}\n",
    "                for near in tau[f'{i}{j}']:\n",
    "                    g[f'{i}{j}'][near] = np.ones((n,n))\n",
    "        return tau, g\n",
    "    \n",
    "    def create_q(self):\n",
    "        n = self.dim**2\n",
    "        q = {}\n",
    "        for i, v in enumerate(self.base):\n",
    "            for j, e in enumerate(v):\n",
    "                if e:\n",
    "                    q[f'{i}{j}'] = np.zeros(n)\n",
    "                    q[f'{i}{j}'][e-1] = 1\n",
    "                else:\n",
    "                    q[f'{i}{j}'] = np.ones(n)\n",
    "        return q\n",
    "    \n",
    "    \n"
   ]
  },
  {
   "cell_type": "code",
   "execution_count": 138,
   "metadata": {},
   "outputs": [],
   "source": [
    "s = sudoku(3, d1)"
   ]
  },
  {
   "cell_type": "code",
   "execution_count": 139,
   "metadata": {},
   "outputs": [
    {
     "data": {
      "text/plain": [
       "array([0., 0., 0., 0., 1., 0., 0., 0., 0.])"
      ]
     },
     "execution_count": 139,
     "metadata": {},
     "output_type": "execute_result"
    }
   ],
   "source": [
    "s.q['00']"
   ]
  },
  {
   "cell_type": "code",
   "execution_count": 140,
   "metadata": {},
   "outputs": [
    {
     "data": {
      "text/plain": [
       "[[5, 3, 0, 0, 7, 0, 0, 0, 0],\n",
       " [6, 0, 0, 1, 9, 5, 0, 0, 0],\n",
       " [0, 9, 8, 0, 0, 0, 0, 6, 0],\n",
       " [8, 0, 0, 0, 6, 0, 0, 0, 3],\n",
       " [4, 0, 0, 8, 0, 3, 0, 0, 1],\n",
       " [7, 0, 0, 0, 2, 0, 0, 0, 6],\n",
       " [0, 6, 0, 0, 0, 0, 2, 8, 0],\n",
       " [0, 0, 0, 4, 1, 9, 0, 0, 5],\n",
       " [0, 0, 0, 0, 8, 0, 0, 7, 9]]"
      ]
     },
     "execution_count": 140,
     "metadata": {},
     "output_type": "execute_result"
    }
   ],
   "source": [
    "d1"
   ]
  },
  {
   "cell_type": "code",
   "execution_count": null,
   "metadata": {},
   "outputs": [],
   "source": []
  }
 ],
 "metadata": {
  "kernelspec": {
   "display_name": "Python 3",
   "language": "python",
   "name": "python3"
  },
  "language_info": {
   "codemirror_mode": {
    "name": "ipython",
    "version": 3
   },
   "file_extension": ".py",
   "mimetype": "text/x-python",
   "name": "python",
   "nbconvert_exporter": "python",
   "pygments_lexer": "ipython3",
   "version": "3.7.4"
  }
 },
 "nbformat": 4,
 "nbformat_minor": 2
}
