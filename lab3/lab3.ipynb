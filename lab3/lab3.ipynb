{
 "cells": [
  {
   "cell_type": "code",
   "execution_count": 5,
   "metadata": {},
   "outputs": [],
   "source": [
    "import numpy as np\n",
    "import json"
   ]
  },
  {
   "cell_type": "code",
   "execution_count": 6,
   "metadata": {},
   "outputs": [
    {
     "data": {
      "text/plain": [
       "[[5, 3, 0, 0, 7, 0, 0, 0, 0],\n",
       " [6, 0, 0, 1, 9, 5, 0, 0, 0],\n",
       " [0, 9, 8, 0, 0, 0, 0, 6, 0],\n",
       " [8, 0, 0, 0, 6, 0, 0, 0, 3],\n",
       " [4, 0, 0, 8, 0, 3, 0, 0, 1],\n",
       " [7, 0, 0, 0, 2, 0, 0, 0, 6],\n",
       " [0, 6, 0, 0, 0, 0, 2, 8, 0],\n",
       " [0, 0, 0, 4, 1, 9, 0, 0, 5],\n",
       " [0, 0, 0, 0, 8, 0, 0, 7, 9]]"
      ]
     },
     "execution_count": 6,
     "metadata": {},
     "output_type": "execute_result"
    }
   ],
   "source": [
    "with open('sudoku_01.json') as f:\n",
    "    d1 = json.load(f)\n",
    "d1"
   ]
  },
  {
   "cell_type": "code",
   "execution_count": 84,
   "metadata": {},
   "outputs": [],
   "source": [
    "class sudoku:\n",
    "    def __init__(self, dim: int):\n",
    "        self.dim = dim\n",
    "        self.tau = sudoku.create_tau(dim) \n",
    "    \n",
    "    @staticmethod\n",
    "    def complement(i,j, small_block):\n",
    "        A = np.delete(small_block, i, 0)\n",
    "        return np.delete(A, j, 1).flatten()\n",
    "    \n",
    "    @classmethod\n",
    "    def create_tau(cls, dim):\n",
    "        block = np.array([[f'{i}{j}' for j in range(9)] for i in range(9)])\n",
    "        n = dim*dim\n",
    "        tau = {}\n",
    "        \n",
    "        i=1\n",
    "        j=2\n",
    "        block[i*3:i*3+3, j*3:j*3+3]\n",
    "        for i in range(n):\n",
    "            for j in range(n):\n",
    "                #small_block_pos\n",
    "                i_ = int(i/dim) \n",
    "                j_ = int(j/dim)\n",
    "                small_block = block[i_*dim:i_*dim+dim, j_*dim:j_*dim+dim]\n",
    "                tau[f'{i}{j}'] = np.concatenate([np.delete(block[i,:], j),\n",
    "                                                np.delete(block[:,j], i),\n",
    "                                                cls.complement(i%dim,j%dim, small_block)])\n",
    "        return tau\n",
    "                \n",
    "    "
   ]
  },
  {
   "cell_type": "code",
   "execution_count": 85,
   "metadata": {},
   "outputs": [],
   "source": [
    "s = sudoku(3)"
   ]
  },
  {
   "cell_type": "code",
   "execution_count": 87,
   "metadata": {},
   "outputs": [
    {
     "data": {
      "text/plain": [
       "array(['00', '02', '03', '04', '05', '06', '07', '08', '11', '21', '31',\n",
       "       '41', '51', '61', '71', '81', '10', '12', '20', '22'], dtype='<U2')"
      ]
     },
     "execution_count": 87,
     "metadata": {},
     "output_type": "execute_result"
    }
   ],
   "source": [
    "s.tau['01']"
   ]
  },
  {
   "cell_type": "code",
   "execution_count": null,
   "metadata": {},
   "outputs": [],
   "source": []
  }
 ],
 "metadata": {
  "kernelspec": {
   "display_name": "Python 3",
   "language": "python",
   "name": "python3"
  },
  "language_info": {
   "codemirror_mode": {
    "name": "ipython",
    "version": 3
   },
   "file_extension": ".py",
   "mimetype": "text/x-python",
   "name": "python",
   "nbconvert_exporter": "python",
   "pygments_lexer": "ipython3",
   "version": "3.7.4"
  }
 },
 "nbformat": 4,
 "nbformat_minor": 2
}
