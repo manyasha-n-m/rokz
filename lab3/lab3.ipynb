{
 "cells": [
  {
   "cell_type": "code",
   "execution_count": 5,
   "metadata": {},
   "outputs": [],
   "source": [
    "import numpy as np\n",
    "import json"
   ]
  },
  {
   "cell_type": "code",
   "execution_count": 6,
   "metadata": {},
   "outputs": [
    {
     "data": {
      "text/plain": [
       "[[5, 3, 0, 0, 7, 0, 0, 0, 0],\n",
       " [6, 0, 0, 1, 9, 5, 0, 0, 0],\n",
       " [0, 9, 8, 0, 0, 0, 0, 6, 0],\n",
       " [8, 0, 0, 0, 6, 0, 0, 0, 3],\n",
       " [4, 0, 0, 8, 0, 3, 0, 0, 1],\n",
       " [7, 0, 0, 0, 2, 0, 0, 0, 6],\n",
       " [0, 6, 0, 0, 0, 0, 2, 8, 0],\n",
       " [0, 0, 0, 4, 1, 9, 0, 0, 5],\n",
       " [0, 0, 0, 0, 8, 0, 0, 7, 9]]"
      ]
     },
     "execution_count": 6,
     "metadata": {},
     "output_type": "execute_result"
    }
   ],
   "source": [
    "with open('sudoku_01.json') as f:\n",
    "    d1 = json.load(f)\n",
    "d1"
   ]
  },
  {
   "cell_type": "code",
   "execution_count": null,
   "metadata": {},
   "outputs": [],
   "source": [
    "class sudoku:\n",
    "    def __init__(self, dim: int):\n",
    "        self.dim = dim\n",
    "        self.tau = self.create_tau(dim) \n",
    "        \n",
    "    @classmethod\n",
    "    def create_tau(dim):\n",
    "        block = np.zeros((dim,dim))\n",
    "        n = dim*dim\n",
    "        tau = {}\n",
    "        for i in range(n):\n",
    "            for j in range(n):\n",
    "                tau[f'{i}{j}'] = []\n",
    "                tau[f'{i}{j}'].exdend([f'{i}{k}' for k in range(n) if k!=i])\n",
    "                \n",
    "    "
   ]
  },
  {
   "cell_type": "code",
   "execution_count": 2,
   "metadata": {},
   "outputs": [
    {
     "data": {
      "text/plain": [
       "array([['00', '01', '02'],\n",
       "       ['10', '11', '12'],\n",
       "       ['20', '21', '22']], dtype='<U2')"
      ]
     },
     "execution_count": 2,
     "metadata": {},
     "output_type": "execute_result"
    }
   ],
   "source": [
    "block = np.array(if i!=0 :\n",
    "                 [[f'{i}{j}' for j in range(3)] for i in range(3) ])\n",
    "                \n",
    "block"
   ]
  },
  {
   "cell_type": "code",
   "execution_count": 4,
   "metadata": {},
   "outputs": [
    {
     "data": {
      "text/plain": [
       "array([[0., 0., 0.],\n",
       "       [0., 0., 0.],\n",
       "       [0., 0., 0.]])"
      ]
     },
     "execution_count": 4,
     "metadata": {},
     "output_type": "execute_result"
    }
   ],
   "source": [
    "np.zeros((3,3))"
   ]
  },
  {
   "cell_type": "code",
   "execution_count": 8,
   "metadata": {},
   "outputs": [
    {
     "ename": "SyntaxError",
     "evalue": "invalid syntax (<ipython-input-8-f1a18cbc9be0>, line 1)",
     "output_type": "error",
     "traceback": [
      "\u001b[1;36m  File \u001b[1;32m\"<ipython-input-8-f1a18cbc9be0>\"\u001b[1;36m, line \u001b[1;32m1\u001b[0m\n\u001b[1;33m    np.array([if i!=0 :\u001b[0m\n\u001b[1;37m               ^\u001b[0m\n\u001b[1;31mSyntaxError\u001b[0m\u001b[1;31m:\u001b[0m invalid syntax\n"
     ]
    }
   ],
   "source": [
    "np.array([if i!=0 :\n",
    "          [f'{i}{j}' for j in range(3)] for i in range(3) ])"
   ]
  },
  {
   "cell_type": "code",
   "execution_count": 9,
   "metadata": {},
   "outputs": [
    {
     "data": {
      "text/plain": [
       "array([1., 2.])"
      ]
     },
     "execution_count": 9,
     "metadata": {},
     "output_type": "execute_result"
    }
   ],
   "source": [
    "np.append([], [1,2])"
   ]
  },
  {
   "cell_type": "code",
   "execution_count": 17,
   "metadata": {},
   "outputs": [
    {
     "data": {
      "text/plain": [
       "[1, 2]"
      ]
     },
     "execution_count": 17,
     "metadata": {},
     "output_type": "execute_result"
    }
   ],
   "source": [
    "a=[1,2,2]\n",
    "a.remove(2)\n",
    "a"
   ]
  },
  {
   "cell_type": "code",
   "execution_count": 21,
   "metadata": {},
   "outputs": [
    {
     "data": {
      "text/plain": [
       "['00', '02', '03', '04', '05', '06', '07', '08']"
      ]
     },
     "execution_count": 21,
     "metadata": {},
     "output_type": "execute_result"
    }
   ],
   "source": [
    "n = 9\n",
    "tau = {}\n",
    "for i in range(n):\n",
    "    for j in range(n):\n",
    "        tau[f'{i}{j}'] = []\n",
    "        tau[f'{i}{j}'].extend([f'{i}{k}' for k in range(n) if k!=j])\n",
    "        tau[f'{i}{j}'].extend([f'{k}{j}' for k in range(n) if k!=i])\n",
    "        \n",
    "\n",
    "tau['01']"
   ]
  },
  {
   "cell_type": "code",
   "execution_count": null,
   "metadata": {},
   "outputs": [],
   "source": []
  }
 ],
 "metadata": {
  "kernelspec": {
   "display_name": "Python 3",
   "language": "python",
   "name": "python3"
  },
  "language_info": {
   "codemirror_mode": {
    "name": "ipython",
    "version": 3
   },
   "file_extension": ".py",
   "mimetype": "text/x-python",
   "name": "python",
   "nbconvert_exporter": "python",
   "pygments_lexer": "ipython3",
   "version": "3.7.4"
  }
 },
 "nbformat": 4,
 "nbformat_minor": 2
}
