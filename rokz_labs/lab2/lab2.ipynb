{
 "cells": [
  {
   "cell_type": "code",
   "execution_count": 1,
   "metadata": {},
   "outputs": [],
   "source": [
    "import pandas as pd\n",
    "import numpy as np\n",
    "from sklearn.model_selection import train_test_split\n",
    "import matplotlib.pyplot as plt\n",
    "import json\n",
    "%matplotlib inline"
   ]
  },
  {
   "cell_type": "code",
   "execution_count": 18,
   "metadata": {},
   "outputs": [],
   "source": [
    "d1 = json.load(open('train_01.json'))\n",
    "d2 = json.load(open('train_02.json'))"
   ]
  },
  {
   "cell_type": "code",
   "execution_count": 22,
   "metadata": {},
   "outputs": [],
   "source": [
    "d = []\n",
    "r = {'inside':1, 'outside':-1}\n",
    "for k in dataset.keys():\n",
    "    _df = pd.DataFrame(d1[k], columns=['A', 'B'])\n",
    "    _df['class'] = r[k]\n",
    "    d.append(_df)\n",
    "df1 = pd.concat(d, axis=0, ignore_index=True)"
   ]
  },
  {
   "cell_type": "code",
   "execution_count": 23,
   "metadata": {},
   "outputs": [],
   "source": [
    "d = []\n",
    "r = {'inside':1, 'outside':-1}\n",
    "for k in dataset.keys():\n",
    "    _df = pd.DataFrame(d2[k], columns=['A', 'B'])\n",
    "    _df['class'] = r[k]\n",
    "    d.append(_df)\n",
    "df2 = pd.concat(d, axis=0, ignore_index=True)"
   ]
  },
  {
   "cell_type": "code",
   "execution_count": 24,
   "metadata": {},
   "outputs": [
    {
     "data": {
      "text/html": [
       "<div>\n",
       "<style scoped>\n",
       "    .dataframe tbody tr th:only-of-type {\n",
       "        vertical-align: middle;\n",
       "    }\n",
       "\n",
       "    .dataframe tbody tr th {\n",
       "        vertical-align: top;\n",
       "    }\n",
       "\n",
       "    .dataframe thead th {\n",
       "        text-align: right;\n",
       "    }\n",
       "</style>\n",
       "<table border=\"1\" class=\"dataframe\">\n",
       "  <thead>\n",
       "    <tr style=\"text-align: right;\">\n",
       "      <th></th>\n",
       "      <th>A</th>\n",
       "      <th>B</th>\n",
       "      <th>class</th>\n",
       "    </tr>\n",
       "  </thead>\n",
       "  <tbody>\n",
       "    <tr>\n",
       "      <td>0</td>\n",
       "      <td>0.729520</td>\n",
       "      <td>0.728634</td>\n",
       "      <td>1</td>\n",
       "    </tr>\n",
       "    <tr>\n",
       "      <td>1</td>\n",
       "      <td>0.826506</td>\n",
       "      <td>0.940316</td>\n",
       "      <td>1</td>\n",
       "    </tr>\n",
       "    <tr>\n",
       "      <td>2</td>\n",
       "      <td>0.602314</td>\n",
       "      <td>0.489100</td>\n",
       "      <td>1</td>\n",
       "    </tr>\n",
       "    <tr>\n",
       "      <td>3</td>\n",
       "      <td>0.792430</td>\n",
       "      <td>0.972460</td>\n",
       "      <td>1</td>\n",
       "    </tr>\n",
       "    <tr>\n",
       "      <td>4</td>\n",
       "      <td>0.373906</td>\n",
       "      <td>0.380795</td>\n",
       "      <td>1</td>\n",
       "    </tr>\n",
       "    <tr>\n",
       "      <td>5</td>\n",
       "      <td>0.521383</td>\n",
       "      <td>0.701165</td>\n",
       "      <td>1</td>\n",
       "    </tr>\n",
       "    <tr>\n",
       "      <td>6</td>\n",
       "      <td>0.579949</td>\n",
       "      <td>0.860210</td>\n",
       "      <td>1</td>\n",
       "    </tr>\n",
       "    <tr>\n",
       "      <td>7</td>\n",
       "      <td>0.447271</td>\n",
       "      <td>0.232087</td>\n",
       "      <td>1</td>\n",
       "    </tr>\n",
       "    <tr>\n",
       "      <td>8</td>\n",
       "      <td>0.826693</td>\n",
       "      <td>0.970862</td>\n",
       "      <td>1</td>\n",
       "    </tr>\n",
       "    <tr>\n",
       "      <td>9</td>\n",
       "      <td>0.209609</td>\n",
       "      <td>0.079489</td>\n",
       "      <td>1</td>\n",
       "    </tr>\n",
       "    <tr>\n",
       "      <td>10</td>\n",
       "      <td>0.338326</td>\n",
       "      <td>0.411363</td>\n",
       "      <td>1</td>\n",
       "    </tr>\n",
       "    <tr>\n",
       "      <td>11</td>\n",
       "      <td>0.683833</td>\n",
       "      <td>0.900314</td>\n",
       "      <td>1</td>\n",
       "    </tr>\n",
       "    <tr>\n",
       "      <td>12</td>\n",
       "      <td>0.397408</td>\n",
       "      <td>0.446432</td>\n",
       "      <td>1</td>\n",
       "    </tr>\n",
       "    <tr>\n",
       "      <td>13</td>\n",
       "      <td>0.261937</td>\n",
       "      <td>0.207272</td>\n",
       "      <td>1</td>\n",
       "    </tr>\n",
       "    <tr>\n",
       "      <td>14</td>\n",
       "      <td>0.846590</td>\n",
       "      <td>0.126805</td>\n",
       "      <td>-1</td>\n",
       "    </tr>\n",
       "    <tr>\n",
       "      <td>15</td>\n",
       "      <td>0.116710</td>\n",
       "      <td>0.852347</td>\n",
       "      <td>-1</td>\n",
       "    </tr>\n",
       "    <tr>\n",
       "      <td>16</td>\n",
       "      <td>0.893944</td>\n",
       "      <td>0.204420</td>\n",
       "      <td>-1</td>\n",
       "    </tr>\n",
       "    <tr>\n",
       "      <td>17</td>\n",
       "      <td>0.196516</td>\n",
       "      <td>0.756340</td>\n",
       "      <td>-1</td>\n",
       "    </tr>\n",
       "    <tr>\n",
       "      <td>18</td>\n",
       "      <td>0.762462</td>\n",
       "      <td>0.176754</td>\n",
       "      <td>-1</td>\n",
       "    </tr>\n",
       "    <tr>\n",
       "      <td>19</td>\n",
       "      <td>0.864621</td>\n",
       "      <td>0.428951</td>\n",
       "      <td>-1</td>\n",
       "    </tr>\n",
       "    <tr>\n",
       "      <td>20</td>\n",
       "      <td>0.708638</td>\n",
       "      <td>0.171807</td>\n",
       "      <td>-1</td>\n",
       "    </tr>\n",
       "    <tr>\n",
       "      <td>21</td>\n",
       "      <td>0.073085</td>\n",
       "      <td>0.706869</td>\n",
       "      <td>-1</td>\n",
       "    </tr>\n",
       "    <tr>\n",
       "      <td>22</td>\n",
       "      <td>0.742972</td>\n",
       "      <td>0.196811</td>\n",
       "      <td>-1</td>\n",
       "    </tr>\n",
       "    <tr>\n",
       "      <td>23</td>\n",
       "      <td>0.685063</td>\n",
       "      <td>0.011556</td>\n",
       "      <td>-1</td>\n",
       "    </tr>\n",
       "    <tr>\n",
       "      <td>24</td>\n",
       "      <td>0.055998</td>\n",
       "      <td>0.514718</td>\n",
       "      <td>-1</td>\n",
       "    </tr>\n",
       "    <tr>\n",
       "      <td>25</td>\n",
       "      <td>0.964555</td>\n",
       "      <td>0.450044</td>\n",
       "      <td>-1</td>\n",
       "    </tr>\n",
       "    <tr>\n",
       "      <td>26</td>\n",
       "      <td>0.250763</td>\n",
       "      <td>0.884590</td>\n",
       "      <td>-1</td>\n",
       "    </tr>\n",
       "    <tr>\n",
       "      <td>27</td>\n",
       "      <td>0.128520</td>\n",
       "      <td>0.798343</td>\n",
       "      <td>-1</td>\n",
       "    </tr>\n",
       "    <tr>\n",
       "      <td>28</td>\n",
       "      <td>0.018173</td>\n",
       "      <td>0.845386</td>\n",
       "      <td>-1</td>\n",
       "    </tr>\n",
       "  </tbody>\n",
       "</table>\n",
       "</div>"
      ],
      "text/plain": [
       "           A         B  class\n",
       "0   0.729520  0.728634      1\n",
       "1   0.826506  0.940316      1\n",
       "2   0.602314  0.489100      1\n",
       "3   0.792430  0.972460      1\n",
       "4   0.373906  0.380795      1\n",
       "5   0.521383  0.701165      1\n",
       "6   0.579949  0.860210      1\n",
       "7   0.447271  0.232087      1\n",
       "8   0.826693  0.970862      1\n",
       "9   0.209609  0.079489      1\n",
       "10  0.338326  0.411363      1\n",
       "11  0.683833  0.900314      1\n",
       "12  0.397408  0.446432      1\n",
       "13  0.261937  0.207272      1\n",
       "14  0.846590  0.126805     -1\n",
       "15  0.116710  0.852347     -1\n",
       "16  0.893944  0.204420     -1\n",
       "17  0.196516  0.756340     -1\n",
       "18  0.762462  0.176754     -1\n",
       "19  0.864621  0.428951     -1\n",
       "20  0.708638  0.171807     -1\n",
       "21  0.073085  0.706869     -1\n",
       "22  0.742972  0.196811     -1\n",
       "23  0.685063  0.011556     -1\n",
       "24  0.055998  0.514718     -1\n",
       "25  0.964555  0.450044     -1\n",
       "26  0.250763  0.884590     -1\n",
       "27  0.128520  0.798343     -1\n",
       "28  0.018173  0.845386     -1"
      ]
     },
     "execution_count": 24,
     "metadata": {},
     "output_type": "execute_result"
    }
   ],
   "source": [
    "df1"
   ]
  },
  {
   "cell_type": "code",
   "execution_count": 43,
   "metadata": {},
   "outputs": [],
   "source": [
    "def plot(df):\n",
    "    plt.figure(figsize=(7,7))\n",
    "    font = {'weight' : 'bold', 'size'   : 20}\n",
    "    plt.rc('font', **font)\n",
    "    try:\n",
    "        df1, df2 = [x for _, x in df.groupby(df['class'] == 1)]\n",
    "        plt.scatter(df1.A, df1.B)\n",
    "        plt.scatter(df2.A, df2.B)\n",
    "    except Exception:\n",
    "        print('Only one class was detected')\n",
    "        plt.scatter(df.A, df.B)\n",
    "    plt.xlabel('A')\n",
    "    plt.ylabel('B')"
   ]
  },
  {
   "cell_type": "code",
   "execution_count": 45,
   "metadata": {},
   "outputs": [],
   "source": [
    "train1, test1 = train_test_split(df1, test_size=0.2)\n",
    "train2, test2 = train_test_split(df2, test_size=0.2)"
   ]
  },
  {
   "cell_type": "code",
   "execution_count": 81,
   "metadata": {},
   "outputs": [
    {
     "data": {
      "image/png": "[encoded data removed]",
      "text/plain": [
       "<Figure size 504x504 with 1 Axes>"
      ]
     },
     "metadata": {
      "needs_background": "light"
     },
     "output_type": "display_data"
    },
    {
     "data": {
      "image/png": "[encoded data removed]",
      "text/plain": [
       "<Figure size 504x504 with 1 Axes>"
      ]
     },
     "metadata": {
      "needs_background": "light"
     },
     "output_type": "display_data"
    }
   ],
   "source": [
    "plot(train1)\n",
    "plot(train2)"
   ]
  },
  {
   "cell_type": "markdown",
   "metadata": {},
   "source": [
    "# so we need to use ellipses"
   ]
  },
  {
   "cell_type": "code",
   "execution_count": 85,
   "metadata": {},
   "outputs": [],
   "source": [
    "class Classifier:\n",
    "    def __init__(self, train):\n",
    "        self.df = train\n",
    "        self.X = self.df[['A', 'B']]\n",
    "        self.X['A2'] = self.X.A*self.X.A\n",
    "        self.X['B2'] = self.X.B*self.X.B\n",
    "        self.X['AB'] = self.X.A*self.X.B\n",
    "        self.X['C'] = 1\n",
    "        self.y = train['class']\n",
    "        self.w = np.zeros(6)\n",
    "    \n",
    "    def fix(self, X, y):\n",
    "        self.w += y*X/np.linalg.norm(X)\n",
    "        \n",
    "    def check(self):\n",
    "        res = self.y * np.sum(self.w * self.X, axis=1)\n",
    "        bad = self.X[res <= 0]\n",
    "        try:\n",
    "            return False, bad.index[0]\n",
    "        except Exception:\n",
    "            return True, 0\n",
    "    \n",
    "    def classify(self):\n",
    "        flag, idx = self.check()\n",
    "        while not flag:\n",
    "            self.fix(self.X.loc[idx,:], self.y[idx])\n",
    "            flag, idx = self.check()\n",
    "        print(self.w)\n",
    "        \n",
    "#     def test(self, df):\n",
    "#         test = df[['A', 'B']]\n",
    "#         test['C'] = 1\n",
    "#         test['class_detected'] = (np.sum(self.w * test[['A', 'B', 'C']], axis=1) > 0).astype(int)\n",
    "#         return test\n",
    "    \n",
    "    def plot(self, df):\n",
    "        plot(df)\n",
    "        xmax, xmin = np.max(df.A), np.min(df.A)\n",
    "        ymax, ymin = np.max(df.B), np.min(df.B)\n",
    "        x = np.linspace(xmin,xmax,100)\n",
    "        y = np.linspace(ymin,ymax,100)\n",
    "        X, Y = np.meshgrid(x,y)\n",
    "        ones = np.ones((100,100))\n",
    "        Z = np.zeros((100,100))\n",
    "        for i, m in enumerate([X,Y,X*X,Y*Y, X*Y, ones]):\n",
    "            Z+=C.w[i]*m\n",
    "        plt.contour(X, Y, Z, [0])\n"
   ]
  },
  {
   "cell_type": "code",
   "execution_count": 86,
   "metadata": {},
   "outputs": [],
   "source": [
    "C = Classifier(train1)"
   ]
  },
  {
   "cell_type": "code",
   "execution_count": 87,
   "metadata": {},
   "outputs": [
    {
     "name": "stdout",
     "output_type": "stream",
     "text": [
      "A     0.411135\n",
      "B    -2.945600\n",
      "A2   -3.253817\n",
      "B2    0.175521\n",
      "AB    4.390585\n",
      "C     1.224269\n",
      "Name: 9, dtype: float64\n"
     ]
    }
   ],
   "source": [
    "C.classify()"
   ]
  },
  {
   "cell_type": "code",
   "execution_count": 88,
   "metadata": {},
   "outputs": [
    {
     "data": {
      "image/png": "[encoded data removed]",
      "text/plain": [
       "<Figure size 504x504 with 1 Axes>"
      ]
     },
     "metadata": {
      "needs_background": "light"
     },
     "output_type": "display_data"
    }
   ],
   "source": [
    "C.plot(train1)"
   ]
  },
  {
   "cell_type": "code",
   "execution_count": null,
   "metadata": {},
   "outputs": [],
   "source": []
  }
 ],
 "metadata": {
  "kernelspec": {
   "display_name": "Python 3",
   "language": "python",
   "name": "python3"
  },
  "language_info": {
   "codemirror_mode": {
    "name": "ipython",
    "version": 3
   },
   "file_extension": ".py",
   "mimetype": "text/x-python",
   "name": "python",
   "nbconvert_exporter": "python",
   "pygments_lexer": "ipython3",
   "version": "3.7.4"
  }
 },
 "nbformat": 4,
 "nbformat_minor": 2
}
