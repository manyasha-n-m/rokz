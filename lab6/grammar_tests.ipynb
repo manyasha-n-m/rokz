{
 "cells": [
  {
   "cell_type": "code",
   "execution_count": 1,
   "metadata": {},
   "outputs": [],
   "source": [
    "import numpy as np\n",
    "import cv2\n",
    "from glob import glob\n",
    "from lab import BinSum"
   ]
  },
  {
   "cell_type": "code",
   "execution_count": 2,
   "metadata": {},
   "outputs": [],
   "source": [
    "import matplotlib.pyplot as plt\n",
    "%matplotlib inline"
   ]
  },
  {
   "cell_type": "code",
   "execution_count": 3,
   "metadata": {},
   "outputs": [],
   "source": [
    "samples = glob('**/sample_*.png', recursive=True)"
   ]
  },
  {
   "cell_type": "code",
   "execution_count": 4,
   "metadata": {},
   "outputs": [],
   "source": [
    "e0_ = \"**/e0.png\"\n",
    "e1_ = \"**/e1.png\""
   ]
  },
  {
   "cell_type": "code",
   "execution_count": 5,
   "metadata": {},
   "outputs": [],
   "source": [
    "s = BinSum(samples[0], e0_, e1_)"
   ]
  },
  {
   "cell_type": "code",
   "execution_count": 6,
   "metadata": {},
   "outputs": [
    {
     "data": {
      "image/png": "[encoded data removed]",
      "text/plain": [
       "<Figure size 432x288 with 1 Axes>"
      ]
     },
     "metadata": {
      "needs_background": "light"
     },
     "output_type": "display_data"
    },
    {
     "name": "stdout",
     "output_type": "stream",
     "text": [
      "Belongs: v0_\n",
      "Doesn`t belong!\n",
      "Doesn`t belong!\n",
      "Doesn`t belong!\n",
      "Doesn`t belong!\n",
      "Doesn`t belong!\n",
      "Doesn`t belong!\n",
      "Doesn`t belong!\n",
      "Doesn`t belong!\n",
      "Doesn`t belong!\n",
      "Doesn`t belong!\n",
      "Doesn`t belong!\n",
      "Doesn`t belong!\n",
      "Doesn`t belong!\n"
     ]
    }
   ],
   "source": [
    "s.img_show()\n",
    "s.belongs()"
   ]
  },
  {
   "cell_type": "code",
   "execution_count": 7,
   "metadata": {},
   "outputs": [],
   "source": [
    "s = BinSum(samples[1], e0_, e1_)"
   ]
  },
  {
   "cell_type": "code",
   "execution_count": 8,
   "metadata": {},
   "outputs": [
    {
     "data": {
      "image/png": "[encoded data removed]",
      "text/plain": [
       "<Figure size 432x288 with 1 Axes>"
      ]
     },
     "metadata": {
      "needs_background": "light"
     },
     "output_type": "display_data"
    },
    {
     "name": "stdout",
     "output_type": "stream",
     "text": [
      "Doesn`t belong!\n",
      "Doesn`t belong!\n",
      "Doesn`t belong!\n",
      "Doesn`t belong!\n",
      "Doesn`t belong!\n",
      "Doesn`t belong!\n",
      "Doesn`t belong!\n",
      "Doesn`t belong!\n",
      "Doesn`t belong!\n",
      "Doesn`t belong!\n",
      "Doesn`t belong!\n",
      "Doesn`t belong!\n",
      "Doesn`t belong!\n",
      "Doesn`t belong!\n"
     ]
    }
   ],
   "source": [
    "s.img_show()\n",
    "s.belongs()"
   ]
  },
  {
   "cell_type": "code",
   "execution_count": null,
   "metadata": {},
   "outputs": [],
   "source": []
  }
 ],
 "metadata": {
  "kernelspec": {
   "display_name": "Python 3",
   "language": "python",
   "name": "python3"
  },
  "language_info": {
   "codemirror_mode": {
    "name": "ipython",
    "version": 3
   },
   "file_extension": ".py",
   "mimetype": "text/x-python",
   "name": "python",
   "nbconvert_exporter": "python",
   "pygments_lexer": "ipython3",
   "version": "3.7.4"
  }
 },
 "nbformat": 4,
 "nbformat_minor": 2
}
