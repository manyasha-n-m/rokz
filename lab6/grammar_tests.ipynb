{
 "cells": [
  {
   "cell_type": "code",
   "execution_count": 1,
   "metadata": {},
   "outputs": [],
   "source": [
    "import numpy as np\n",
    "import cv2\n",
    "from glob import glob\n",
    "from lab import BinSum"
   ]
  },
  {
   "cell_type": "code",
   "execution_count": 2,
   "metadata": {},
   "outputs": [],
   "source": [
    "import matplotlib.pyplot as plt\n",
    "%matplotlib inline"
   ]
  },
  {
   "cell_type": "code",
   "execution_count": 3,
   "metadata": {},
   "outputs": [],
   "source": [
    "samples = glob('**/sample_*.png', recursive=True)"
   ]
  },
  {
   "cell_type": "code",
   "execution_count": 4,
   "metadata": {},
   "outputs": [],
   "source": [
    "e0_ = \"**/e0.png\"\n",
    "e1_ = \"**/e1.png\""
   ]
  },
  {
   "cell_type": "code",
   "execution_count": 5,
   "metadata": {},
   "outputs": [],
   "source": [
    "s = BinSum(samples[0], e0_, e1_)"
   ]
  },
  {
   "cell_type": "code",
   "execution_count": 6,
   "metadata": {},
   "outputs": [
    {
     "data": {
      "image/png": "[encoded data removed]",
      "text/plain": [
       "<Figure size 432x288 with 1 Axes>"
      ]
     },
     "metadata": {
      "needs_background": "light"
     },
     "output_type": "display_data"
    }
   ],
   "source": [
    "s.img_show()"
   ]
  },
  {
   "cell_type": "code",
   "execution_count": 7,
   "metadata": {
    "scrolled": true
   },
   "outputs": [
    {
     "name": "stdout",
     "output_type": "stream",
     "text": [
      "d1 d1 A11 0 1 0\n",
      "d0 d0 A00 0 1 1\n",
      "d1 d0 A10 0 1 2\n",
      "d1 d1 A11 0 1 3\n",
      "A11 r0 v0_ 0 2 0\n",
      "A00 r1 v1 0 2 1\n",
      "A10 r0 v1_ 0 2 2\n",
      "A11 r0 v0_ 0 2 3\n"
     ]
    }
   ],
   "source": [
    "f = s.check()"
   ]
  },
  {
   "cell_type": "code",
   "execution_count": 16,
   "metadata": {},
   "outputs": [
    {
     "name": "stdout",
     "output_type": "stream",
     "text": [
      "i True\n"
     ]
    }
   ],
   "source": [
    "for n in s.N:\n",
    "    if f[0,2,0,3, n]:\n",
    "        print(n, f[0,2,0,3, n])"
   ]
  },
  {
   "cell_type": "code",
   "execution_count": 8,
   "metadata": {},
   "outputs": [
    {
     "name": "stdout",
     "output_type": "stream",
     "text": [
      "v0_ True\n",
      "v1 True\n",
      "v1_ True\n",
      "v0_ True\n"
     ]
    }
   ],
   "source": [
    "for j in range(0,4):\n",
    "    for n in s.N:\n",
    "        if f[0,2,j,j, n]:\n",
    "            print(n, f[0,2,j,j, n])"
   ]
  },
  {
   "cell_type": "code",
   "execution_count": 9,
   "metadata": {},
   "outputs": [
    {
     "name": "stdout",
     "output_type": "stream",
     "text": [
      "i_ 0 True\n",
      "i 1 True\n"
     ]
    }
   ],
   "source": [
    "for j in range(2):\n",
    "    for n in s.N:\n",
    "        if f[0,2, j, j+2, n]:\n",
    "            print(n, j, f[0,2, j, j+2, n])"
   ]
  },
  {
   "cell_type": "code",
   "execution_count": 10,
   "metadata": {},
   "outputs": [
    {
     "name": "stdout",
     "output_type": "stream",
     "text": [
      "i_ 0 True\n",
      "i_ 1 True\n",
      "i 2 True\n"
     ]
    }
   ],
   "source": [
    "for j in range(3):\n",
    "    for n in s.N:\n",
    "        if f[0,2, j, j+1, n]:\n",
    "            print(n, j, f[0,2, j, j+1, n])"
   ]
  },
  {
   "cell_type": "code",
   "execution_count": 11,
   "metadata": {},
   "outputs": [
    {
     "name": "stdout",
     "output_type": "stream",
     "text": [
      "A11 True\n",
      "r1 True\n",
      "d1 True\n",
      "r1 True\n",
      "d1 True\n",
      "r0 True\n",
      "d0 True\n"
     ]
    }
   ],
   "source": [
    "for n in s.N:\n",
    "    if f[0,1,3,3, n]:\n",
    "        print(n, f[0,1,3,3, n])\n",
    "for n in s.N:\n",
    "    if f[0,0,3,3, n]:\n",
    "        print(n, f[0,0,3,3, n])\n",
    "for n in s.N:\n",
    "    if f[1,1,3,3, n]:\n",
    "        print(n, f[1,1,3,3, n])\n",
    "for n in s.N:\n",
    "    if f[2,2,3,3, n]:\n",
    "        print(n, f[2,2,3,3, n])"
   ]
  },
  {
   "cell_type": "code",
   "execution_count": 12,
   "metadata": {},
   "outputs": [],
   "source": [
    "# s = BinSum(samples[1], e0_, e1_)"
   ]
  },
  {
   "cell_type": "code",
   "execution_count": 13,
   "metadata": {},
   "outputs": [
    {
     "data": {
      "image/png": "[encoded data removed]",
      "text/plain": [
       "<Figure size 432x288 with 1 Axes>"
      ]
     },
     "metadata": {
      "needs_background": "light"
     },
     "output_type": "display_data"
    }
   ],
   "source": [
    "s.img_show()"
   ]
  },
  {
   "cell_type": "code",
   "execution_count": 14,
   "metadata": {},
   "outputs": [
    {
     "name": "stdout",
     "output_type": "stream",
     "text": [
      "d1 d1 A11 0 1 0\n",
      "d0 d0 A00 0 1 1\n",
      "d1 d0 A10 0 1 2\n",
      "d1 d1 A11 0 1 3\n",
      "A11 r0 v0_ 0 2 0\n",
      "A00 r1 v1 0 2 1\n",
      "A10 r0 v1_ 0 2 2\n",
      "A11 r0 v0_ 0 2 3\n"
     ]
    }
   ],
   "source": [
    "f = s.check()"
   ]
  },
  {
   "cell_type": "code",
   "execution_count": 15,
   "metadata": {},
   "outputs": [
    {
     "name": "stdout",
     "output_type": "stream",
     "text": [
      "False\n",
      "True\n",
      "i_ True\n",
      "False\n",
      "False\n",
      "False\n",
      "False\n",
      "False\n",
      "False\n",
      "False\n",
      "False\n",
      "False\n",
      "False\n",
      "False\n",
      "False\n"
     ]
    }
   ],
   "source": [
    "for n in s.N:\n",
    "    print(f[0,2,0,1, n])\n",
    "    if f[0,2,0,1, n]:\n",
    "        print(n, f[0,2,0,1, n])"
   ]
  },
  {
   "cell_type": "code",
   "execution_count": null,
   "metadata": {},
   "outputs": [],
   "source": []
  }
 ],
 "metadata": {
  "kernelspec": {
   "display_name": "Python 3",
   "language": "python",
   "name": "python3"
  },
  "language_info": {
   "codemirror_mode": {
    "name": "ipython",
    "version": 3
   },
   "file_extension": ".py",
   "mimetype": "text/x-python",
   "name": "python",
   "nbconvert_exporter": "python",
   "pygments_lexer": "ipython3",
   "version": "3.7.4"
  }
 },
 "nbformat": 4,
 "nbformat_minor": 2
}
